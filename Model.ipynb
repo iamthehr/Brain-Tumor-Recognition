{
 "cells": [
  {
   "cell_type": "code",
   "execution_count": 1,
   "metadata": {},
   "outputs": [],
   "source": [
    "import tensorflow as tf\n",
    "from tensorflow.keras.preprocessing.image import ImageDataGenerator\n",
    "from tensorflow.keras import layers, models\n",
    "import os"
   ]
  },
  {
   "cell_type": "code",
   "execution_count": 2,
   "metadata": {},
   "outputs": [
    {
     "name": "stdout",
     "output_type": "stream",
     "text": [
      "Found 5712 images belonging to 4 classes.\n",
      "Found 1311 images belonging to 4 classes.\n"
     ]
    }
   ],
   "source": [
    "train_dir = 'Training'\n",
    "test_dir = 'Testing'\n",
    "\n",
    "# Image size and batch size\n",
    "IMG_SIZE = (150, 150)\n",
    "BATCH_SIZE = 32\n",
    "\n",
    "# ImageDataGenerator for loading and preprocessing data\n",
    "train_datagen = ImageDataGenerator(rescale=1./255)\n",
    "test_datagen = ImageDataGenerator(rescale=1./255)\n",
    "\n",
    "# Load data from the folders\n",
    "train_data = train_datagen.flow_from_directory(\n",
    "    train_dir,\n",
    "    target_size=IMG_SIZE,\n",
    "    batch_size=BATCH_SIZE,\n",
    "    class_mode='categorical'  # Since we have 4 classes\n",
    ")\n",
    "\n",
    "test_data = test_datagen.flow_from_directory(\n",
    "    test_dir,\n",
    "    target_size=IMG_SIZE,\n",
    "    batch_size=BATCH_SIZE,\n",
    "    class_mode='categorical'\n",
    ")\n"
   ]
  },
  {
   "cell_type": "code",
   "execution_count": 3,
   "metadata": {},
   "outputs": [],
   "source": [
    "# Build the CNN model\n",
    "model = models.Sequential([\n",
    "    layers.Conv2D(32, (3, 3), activation='relu', input_shape=(150, 150, 3)),\n",
    "    layers.MaxPooling2D((2, 2)),\n",
    "    \n",
    "    layers.Conv2D(64, (3, 3), activation='relu'),\n",
    "    layers.MaxPooling2D((2, 2)),\n",
    "    \n",
    "    layers.Conv2D(128, (3, 3), activation='relu'),\n",
    "    layers.MaxPooling2D((2, 2)),\n",
    "    \n",
    "    layers.Conv2D(128, (3, 3), activation='relu'),\n",
    "    layers.MaxPooling2D((2, 2)),\n",
    "    \n",
    "    layers.Flatten(),\n",
    "    layers.Dense(512, activation='relu'),\n",
    "    layers.Dense(4, activation='softmax')  # 4 classes for classification\n",
    "])\n",
    "\n",
    "# Compile the model\n",
    "model.compile(optimizer='adam',\n",
    "              loss='categorical_crossentropy',\n",
    "              metrics=['accuracy'])"
   ]
  },
  {
   "cell_type": "code",
   "execution_count": 4,
   "metadata": {},
   "outputs": [
    {
     "name": "stdout",
     "output_type": "stream",
     "text": [
      "Epoch 1/10\n",
      "179/179 [==============================] - 112s 621ms/step - loss: 0.6443 - accuracy: 0.7355 - val_loss: 0.4986 - val_accuracy: 0.7902\n",
      "Epoch 2/10\n",
      "179/179 [==============================] - 72s 400ms/step - loss: 0.3263 - accuracy: 0.8829 - val_loss: 0.4129 - val_accuracy: 0.8452\n",
      "Epoch 3/10\n",
      "179/179 [==============================] - 71s 398ms/step - loss: 0.2122 - accuracy: 0.9230 - val_loss: 0.2616 - val_accuracy: 0.8963\n",
      "Epoch 4/10\n",
      "179/179 [==============================] - 71s 395ms/step - loss: 0.1535 - accuracy: 0.9457 - val_loss: 0.2537 - val_accuracy: 0.9199\n",
      "Epoch 5/10\n",
      "179/179 [==============================] - 72s 400ms/step - loss: 0.0908 - accuracy: 0.9664 - val_loss: 0.1475 - val_accuracy: 0.9504\n",
      "Epoch 6/10\n",
      "179/179 [==============================] - 70s 393ms/step - loss: 0.0840 - accuracy: 0.9704 - val_loss: 0.1827 - val_accuracy: 0.9428\n",
      "Epoch 7/10\n",
      "179/179 [==============================] - 71s 396ms/step - loss: 0.0503 - accuracy: 0.9839 - val_loss: 0.1597 - val_accuracy: 0.9466\n",
      "Epoch 8/10\n",
      "179/179 [==============================] - 72s 400ms/step - loss: 0.0396 - accuracy: 0.9855 - val_loss: 0.1620 - val_accuracy: 0.9619\n",
      "Epoch 9/10\n",
      "179/179 [==============================] - 73s 407ms/step - loss: 0.0295 - accuracy: 0.9907 - val_loss: 0.2053 - val_accuracy: 0.9420\n",
      "Epoch 10/10\n",
      "179/179 [==============================] - 71s 398ms/step - loss: 0.0260 - accuracy: 0.9912 - val_loss: 0.1307 - val_accuracy: 0.9703\n"
     ]
    },
    {
     "name": "stderr",
     "output_type": "stream",
     "text": [
      "c:\\Python310\\lib\\site-packages\\keras\\src\\engine\\training.py:3000: UserWarning: You are saving your model as an HDF5 file via `model.save()`. This file format is considered legacy. We recommend using instead the native Keras format, e.g. `model.save('my_model.keras')`.\n",
      "  saving_api.save_model(\n"
     ]
    }
   ],
   "source": [
    "history = model.fit(train_data, epochs=10, validation_data=test_data)\n",
    "\n",
    "# Save the model\n",
    "model.save('brain_tumor_cnn_model.h5')"
   ]
  }
 ],
 "metadata": {
  "kernelspec": {
   "display_name": "Python 3",
   "language": "python",
   "name": "python3"
  },
  "language_info": {
   "codemirror_mode": {
    "name": "ipython",
    "version": 3
   },
   "file_extension": ".py",
   "mimetype": "text/x-python",
   "name": "python",
   "nbconvert_exporter": "python",
   "pygments_lexer": "ipython3",
   "version": "3.10.5"
  }
 },
 "nbformat": 4,
 "nbformat_minor": 2
}
